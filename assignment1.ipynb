import numpy as np
import pandas as pd
import json
import requests

endpoint = 'https://min-api.cryptocompare.com/data/histoday'
res = requests.get(endpoint + '?fsym=BTC&tsym=USD&limit=2000')
BTC = pd.DataFrame(json.loads(res.content)['Data'])

BTC

endpoint = 'https://min-api.cryptocompare.com/data/histoday'
res = requests.get(endpoint + '?fsym=BTC&tsym=USD&limit=2000')
BTC = pd.DataFrame(json.loads(res.content)['Data'])

BTC = BTC.set_index('time')
BTC.index = pd.to_datetime(BTC.index, unit='s')

BTC.tail(5)

import matplotlib.pyplot as plt
from datetime import datetime

fig = plt.figure(figsize=(10, 10))

ax1 = fig.add_subplot(1, 1, 1) 

ax1.plot(BTC.index, BTC['close'])
ax1.set_title("Close price of Bitcoin")
plt.xlim([datetime(2020, 9, 22), datetime(2021, 9, 22)])

plt.ylabel("US Dollars")

plt.legend(['Bitcoin', 'S&P 500 Index']) 

# This graph shows Bitcoing closing price for each time during Sept 22, 2020 
# and Sept 22, 2021.
# We can see a dramatic increase starting during February of 2021.

